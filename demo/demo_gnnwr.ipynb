{
 "cells": [
  {
   "cell_type": "code",
   "execution_count": 1,
   "metadata": {},
   "outputs": [],
   "source": [
    "from gnnwr import models,datasets\n",
    "import pandas as pd\n",
    "import numpy as np\n",
    "import folium\n",
    "import torch.nn as nn\n",
    "from sklearn.metrics import r2_score as r2\n",
    "import matplotlib.pyplot as plt"
   ]
  },
  {
   "cell_type": "code",
   "execution_count": null,
   "metadata": {},
   "outputs": [],
   "source": [
    "data = pd.read_csv(u'../data/pm25_data.csv')\n",
    "print(data.head(5))"
   ]
  },
  {
   "cell_type": "code",
   "execution_count": null,
   "metadata": {},
   "outputs": [],
   "source": [
    "lon_center,lat_center = data['经度'].mean(),data['纬度'].mean()\n",
    "map = folium.Map(location=[lat_center,lon_center],zoom_start=4,tiles = \"Stamen Terrain\")\n",
    "data.apply(lambda x:folium.Marker(location=[x['纬度'],x['经度']],popup=x['监测点名称']+'\\n PM2.5: '+str(x['PM2_5'])).add_to(map),axis=1)\n",
    "map"
   ]
  },
  {
   "cell_type": "code",
   "execution_count": null,
   "metadata": {},
   "outputs": [],
   "source": [
    "train_dataset, val_dataset, test_dataset = datasets.init_dataset(data=data,\n",
    "                                                        test_ratio=0.15,\n",
    "                                                        valid_ratio=0.15,\n",
    "                                                        x_column=['dem', 'w10','d10','t2m','aod_sat','tp'],\n",
    "                                                        y_column=['PM2_5'],\n",
    "                                                        spatial_column=['经度','纬度'],\n",
    "                                                        sample_seed=42,\n",
    "                                                        batch_size=64)"
   ]
  },
  {
   "cell_type": "code",
   "execution_count": null,
   "metadata": {},
   "outputs": [],
   "source": [
    "map_1 = folium.Map(location=[lat_center,lon_center],zoom_start=4,tiles = \"Stamen Terrain\")\n",
    "train_dataset.dataframe.apply(lambda x:folium.Marker(location=[x['纬度'],x['经度']],icon=folium.Icon(color='red'),popup=x['监测点名称']+'\\n PM2.5: '+str(x['PM2_5'])).add_to(map_1),axis=1)\n",
    "val_dataset.dataframe.apply(lambda x:folium.Marker(location=[x['纬度'],x['经度']],icon=folium.Icon(color='green'),popup=x['监测点名称']+'\\n PM2.5: '+str(x['PM2_5'])).add_to(map_1),axis=1)\n",
    "test_dataset.dataframe.apply(lambda x:folium.Marker(location=[x['纬度'],x['经度']],icon=folium.Icon(color='blue'),popup=x['监测点名称']+'\\n PM2.5: '+str(x['PM2_5'])).add_to(map_1),axis=1)\n",
    "\n",
    "map_1"
   ]
  },
  {
   "cell_type": "code",
   "execution_count": null,
   "metadata": {},
   "outputs": [],
   "source": [
    "gnnwr = models.GNNWR(train_dataset = train_dataset,\n",
    "                     valid_dataset = val_dataset, \n",
    "                     test_dataset = test_dataset,\n",
    "                     dense_layers = [512, 256, 128],\n",
    "                     start_lr = 0.2,\n",
    "                     optimizer = \"Adam\",\n",
    "                     activate_func = nn.PReLU(init=0.1),\n",
    "                     model_name = \"GNNWR_PM25\",\n",
    "                     model_save_path = \"./demo_result/gnnwr_models\",\n",
    "                     log_path = \"./demo_result//gnnwr_logs\",\n",
    "                     write_path = \"./demo_result/gnnwr_tensorboard/\"\n",
    "                     )"
   ]
  },
  {
   "cell_type": "code",
   "execution_count": null,
   "metadata": {},
   "outputs": [],
   "source": [
    "gnnwr.run(max_epoch = 100,early_stop = 5000,print_frequency = 1000)"
   ]
  },
  {
   "cell_type": "code",
   "execution_count": null,
   "metadata": {},
   "outputs": [],
   "source": [
    "gnnwr.result()"
   ]
  },
  {
   "cell_type": "code",
   "execution_count": null,
   "metadata": {},
   "outputs": [],
   "source": [
    "gnnwr.reg_result('./demo_result/GNNWR_PM25_Result.csv')"
   ]
  },
  {
   "cell_type": "code",
   "execution_count": null,
   "metadata": {},
   "outputs": [],
   "source": [
    "result_data = pd.read_csv('./demo_result/GNNWR_PM25_Result.csv')\n",
    "result_data['id'] = result_data['id'].astype(np.int64)\n",
    "result_data.rename(columns={\"PM2_5\":\"Pred_PM2_5\"},inplace=True)\n",
    "data = pd.concat([train_dataset.dataframe,val_dataset.dataframe,test_dataset.dataframe])\n",
    "data.head(5)\n",
    "data.set_index('id',inplace=True)\n",
    "result_data.set_index('id',inplace=True)\n",
    "result_data = result_data.join(data)\n",
    "result_data.head(5)"
   ]
  },
  {
   "cell_type": "code",
   "execution_count": null,
   "metadata": {},
   "outputs": [],
   "source": [
    "print(train_dataset.distances_scale_param['min'].tolist())"
   ]
  },
  {
   "cell_type": "code",
   "execution_count": null,
   "metadata": {},
   "outputs": [],
   "source": [
    "train_dataset.save('./demo_result/gnnwr_datasets/train_dataset')\n",
    "val_dataset.save('./demo_result/gnnwr_datasets/val_dataset')\n",
    "test_dataset.save('./demo_result/gnnwr_datasets/test_dataset')"
   ]
  },
  {
   "cell_type": "code",
   "execution_count": 2,
   "metadata": {},
   "outputs": [],
   "source": [
    "train_dataset_loaded = datasets.load_dataset('./demo_result/gnnwr_datasets/train_dataset/')\n",
    "val_dataset_loaded = datasets.load_dataset('./demo_result/gnnwr_datasets/val_dataset/')\n",
    "test_dataset_loaded = datasets.load_dataset('./demo_result/gnnwr_datasets/test_dataset/')"
   ]
  },
  {
   "cell_type": "code",
   "execution_count": null,
   "metadata": {},
   "outputs": [],
   "source": [
    "print(val_dataset.batch_size)"
   ]
  },
  {
   "cell_type": "code",
   "execution_count": null,
   "metadata": {},
   "outputs": [],
   "source": [
    "print(val_dataset_loaded.shuffle)"
   ]
  },
  {
   "cell_type": "code",
   "execution_count": 3,
   "metadata": {},
   "outputs": [],
   "source": [
    "gnnwr_loaded = models.GNNWR(train_dataset = train_dataset_loaded,\n",
    "                     valid_dataset = val_dataset_loaded, \n",
    "                     test_dataset = test_dataset_loaded,\n",
    "                     dense_layers = [512, 256, 128],\n",
    "                     start_lr = 0.2,\n",
    "                     optimizer = \"Adam\",\n",
    "                     activate_func = nn.PReLU(init=0.1),\n",
    "                     model_name = \"GNNWR_PM25\",\n",
    "                     model_save_path = \"./demo_result/gnnwr_models\",\n",
    "                     log_path = \"./demo_result//gnnwr_logs\",\n",
    "                     write_path = \"./demo_result/gnnwr_tensorboard/\"\n",
    "                     )"
   ]
  },
  {
   "cell_type": "code",
   "execution_count": 4,
   "metadata": {},
   "outputs": [],
   "source": [
    "gnnwr_loaded.load_model('./demo_result/gnnwr_models/GNNWR_PM25.pkl')"
   ]
  },
  {
   "cell_type": "code",
   "execution_count": 5,
   "metadata": {},
   "outputs": [
    {
     "name": "stdout",
     "output_type": "stream",
     "text": [
      "Test Loss:  55.986881256103516  Test R2:  0.7312301287858805\n",
      "--------------------Result Table--------------------\n",
      "\n",
      "Model Name:           | GNNWR_PM25\n",
      "Model Structure:      |\n",
      " SWNN(\n",
      "  (activate_func): PReLU(num_parameters=1)\n",
      "  (fc): Sequential(\n",
      "    (swnn_full0): Linear(in_features=1017, out_features=512, bias=True)\n",
      "    (swnn_batc0): BatchNorm1d(512, eps=1e-05, momentum=0.1, affine=True, track_running_stats=True)\n",
      "    (swnn_acti0): PReLU(num_parameters=1)\n",
      "    (swnn_drop0): Dropout(p=0.2, inplace=False)\n",
      "    (swnn_full1): Linear(in_features=512, out_features=256, bias=True)\n",
      "    (swnn_batc1): BatchNorm1d(256, eps=1e-05, momentum=0.1, affine=True, track_running_stats=True)\n",
      "    (swnn_acti1): PReLU(num_parameters=1)\n",
      "    (swnn_drop1): Dropout(p=0.2, inplace=False)\n",
      "    (swnn_full2): Linear(in_features=256, out_features=128, bias=True)\n",
      "    (swnn_batc2): BatchNorm1d(128, eps=1e-05, momentum=0.1, affine=True, track_running_stats=True)\n",
      "    (swnn_acti2): PReLU(num_parameters=1)\n",
      "    (swnn_drop2): Dropout(p=0.2, inplace=False)\n",
      "    (full3): Linear(in_features=128, out_features=7, bias=True)\n",
      "  )\n",
      ")\n",
      "Optimizer:            |\n",
      " Adam (\n",
      "Parameter Group 0\n",
      "    amsgrad: False\n",
      "    betas: (0.9, 0.999)\n",
      "    capturable: False\n",
      "    differentiable: False\n",
      "    eps: 1e-08\n",
      "    foreach: None\n",
      "    fused: None\n",
      "    initial_lr: 0.2\n",
      "    lr: 0.2\n",
      "    maximize: False\n",
      "    weight_decay: 0\n",
      ")\n",
      "independent variable: | ['dem', 'w10', 'd10', 't2m', 'aod_sat', 'tp']\n",
      "dependent variable:   | ['PM2_5']\n",
      "\n",
      "----------------------------------------------------\n",
      "\n",
      "OLS:  | [7.45939598903999, -8.261893946988891, -1.4439995067770273, 23.801635778589997, 31.165242079170675, -27.952316385770168, 22.61811286020775]\n",
      "R2:   | 0.7312301287858805\n",
      "RMSE: | 7.482438\n",
      "AIC:  | 1612.360163\n",
      "AICc: | 1671.608887\n",
      "F1:   | 0.011791\n"
     ]
    }
   ],
   "source": [
    "gnnwr_loaded.result()"
   ]
  }
 ],
 "metadata": {
  "kernelspec": {
   "display_name": "Python 3.9.16 ('gnnwr')",
   "language": "python",
   "name": "python3"
  },
  "language_info": {
   "codemirror_mode": {
    "name": "ipython",
    "version": 3
   },
   "file_extension": ".py",
   "mimetype": "text/x-python",
   "name": "python",
   "nbconvert_exporter": "python",
   "pygments_lexer": "ipython3",
   "version": "3.9.16"
  },
  "orig_nbformat": 4,
  "vscode": {
   "interpreter": {
    "hash": "ee43b6dfbe2090fa2d1d37a3c5a9fe6ce6d6c39a19b5cd89c21c9a36656a50f4"
   }
  }
 },
 "nbformat": 4,
 "nbformat_minor": 2
}
