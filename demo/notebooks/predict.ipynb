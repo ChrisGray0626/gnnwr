{
 "cells": [
  {
   "cell_type": "code",
   "execution_count": 1,
   "metadata": {},
   "outputs": [],
   "source": [
    "from gnnwr import models,datasets\n",
    "import pandas as pd\n",
    "import numpy as np"
   ]
  },
  {
   "cell_type": "code",
   "execution_count": 2,
   "metadata": {},
   "outputs": [],
   "source": [
    "data = pd.read_csv(u'../../data/simulated_data.csv')"
   ]
  },
  {
   "cell_type": "code",
   "execution_count": 3,
   "metadata": {},
   "outputs": [],
   "source": [
    "train_dataset, val_dataset, test_dataset = datasets.init_dataset(data=data,\n",
    "                                                        test_ratio=0.2,\n",
    "                                                        valid_ratio=0.1,\n",
    "                                                        x_column=['x1', 'x2'],\n",
    "                                                        y_column=['y'],\n",
    "                                                        spatial_column=['u', 'v'],\n",
    "                                                        sample_seed=42)"
   ]
  },
  {
   "cell_type": "code",
   "execution_count": 4,
   "metadata": {},
   "outputs": [
    {
     "name": "stdout",
     "output_type": "stream",
     "text": [
      "[2.470637489160862, 2.836595917725698, 1.933044176043262]\n"
     ]
    }
   ],
   "source": [
    "gnnwr = models.GNNWR(train_dataset, val_dataset, test_dataset, [32, 16, 8])"
   ]
  },
  {
   "cell_type": "code",
   "execution_count": 5,
   "metadata": {},
   "outputs": [],
   "source": [
    "gnnwr.load_model(path=\"../../demo/gnnwr_models/GNNWR_230731.pkl\",use_dict=True)"
   ]
  },
  {
   "cell_type": "code",
   "execution_count": 6,
   "metadata": {},
   "outputs": [],
   "source": [
    "pre_data = pd.read_csv(u\"../../data/simulated_predict_data.csv\")"
   ]
  },
  {
   "cell_type": "code",
   "execution_count": 7,
   "metadata": {},
   "outputs": [
    {
     "name": "stdout",
     "output_type": "stream",
     "text": [
      "ProcessParams: [[array([0.        , 0.00083506]), array([0.99797169, 1.        ])], [array([1.26368975]), array([11.33460112])]]\n"
     ]
    }
   ],
   "source": [
    "pre_dataset = datasets.init_predict_dataset(data = pre_data,train_dataset = train_dataset,x_column=['x1', 'x2'],spatial_column=['u', 'v'])"
   ]
  },
  {
   "cell_type": "code",
   "execution_count": 8,
   "metadata": {},
   "outputs": [
    {
     "name": "stdout",
     "output_type": "stream",
     "text": [
      "[3.10826264 4.43492981 3.24838379 4.73292218 3.1269673  5.16257876\n",
      " 3.64236733 4.365453   2.35125674 3.36213554 3.04073162 3.81186225\n",
      " 3.25600576 4.4837029  3.25723242 5.58834946 5.06088709 3.11011629\n",
      " 4.77770166 3.62557349 3.49190198 3.59995954 2.83185129 3.1437715\n",
      " 3.36445575 3.62916613 2.713947   3.95439259 4.47897395 4.2843363\n",
      " 3.50170609 4.63135207 4.6593314  4.17543085 4.27234014 5.2363079\n",
      " 2.63585597 4.04931828 3.84002226 4.86315893 2.73369793 4.0700337\n",
      " 4.01105627 3.59715477 3.20379521 3.42827708 4.04759879 3.69908984\n",
      " 2.66466893 3.08523677 3.57997045 3.82671991 3.33859568 3.6059138\n",
      " 4.03039767 3.75875564 4.5349068  4.1801616  4.38342458 4.91698752\n",
      " 4.01307919 3.64851263 2.92627785 3.63013047 4.84170037 4.1329021\n",
      " 5.1855329  3.09419209 4.44640583 3.84953719 3.6123903  3.29180425\n",
      " 3.38193045 3.34067488 3.17159536 2.86552361 3.6891025  3.4816238\n",
      " 2.93153759 2.82422197 3.2885188  3.64937162 2.66234962 2.53682142\n",
      " 2.59989331 4.77746725 3.390495   2.58242776 2.9081457  4.18491157\n",
      " 3.56439996 3.31709705 3.16405263 2.86130669 3.52025243 3.62120831\n",
      " 2.68674112 2.93959011 2.66358979 2.80420781 2.57094499 3.19705564\n",
      " 3.01817486 3.27919131 3.78710188 2.24848339 4.13785256 4.10634602\n",
      " 3.10689102 3.88783551 3.25230342 3.87529881 4.06872511 3.64164881\n",
      " 3.43136984 4.06070876 3.9280337  3.72250244 3.42970108 3.33354484\n",
      " 3.59662682 2.30326566 2.83607061 2.70465042]\n"
     ]
    }
   ],
   "source": [
    "res = gnnwr.predict(pre_dataset.dataloader)\n",
    "res = pre_dataset.rescale(res)\n",
    "print(res)"
   ]
  }
 ],
 "metadata": {
  "kernelspec": {
   "display_name": "Python 3.9.16 ('gnnwr')",
   "language": "python",
   "name": "python3"
  },
  "language_info": {
   "codemirror_mode": {
    "name": "ipython",
    "version": 3
   },
   "file_extension": ".py",
   "mimetype": "text/x-python",
   "name": "python",
   "nbconvert_exporter": "python",
   "pygments_lexer": "ipython3",
   "version": "3.9.16"
  },
  "orig_nbformat": 4,
  "vscode": {
   "interpreter": {
    "hash": "ee43b6dfbe2090fa2d1d37a3c5a9fe6ce6d6c39a19b5cd89c21c9a36656a50f4"
   }
  }
 },
 "nbformat": 4,
 "nbformat_minor": 2
}
